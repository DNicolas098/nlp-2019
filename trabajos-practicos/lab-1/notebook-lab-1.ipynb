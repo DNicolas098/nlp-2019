{
 "cells": [
  {
   "cell_type": "markdown",
   "metadata": {},
   "source": [
    "### 1. Cual es el numero de tokens en Moby Dick?"
   ]
  },
  {
   "cell_type": "code",
   "execution_count": 44,
   "metadata": {},
   "outputs": [],
   "source": [
    "from nltk.book import *\n",
    "from nltk import word_tokenize\n",
    "import re\n",
    "\n",
    "moby_dick = text1\n",
    "moby_dick_tokens = moby_dick.tokens\n",
    "moby_dick_tokens_nopunct = [word.lower() for word in moby_dick_tokens if re.search('\\w',word)]\n",
    "num_of_tokens_in_moby_dick = len(moby_dick_tokens_nopunct)"
   ]
  },
  {
   "cell_type": "code",
   "execution_count": 45,
   "metadata": {},
   "outputs": [
    {
     "data": {
      "text/plain": [
       "218621"
      ]
     },
     "execution_count": 45,
     "metadata": {},
     "output_type": "execute_result"
    }
   ],
   "source": [
    "num_of_tokens_in_moby_dick"
   ]
  },
  {
   "cell_type": "markdown",
   "metadata": {},
   "source": [
    "### 2. Cual es el numero de types en Moby dick?"
   ]
  },
  {
   "cell_type": "code",
   "execution_count": 46,
   "metadata": {},
   "outputs": [],
   "source": [
    "moby_dick_types = set(moby_dick_tokens_nopunct)\n",
    "num_of_types_in_moby_dick = len(moby_dick_types)"
   ]
  },
  {
   "cell_type": "code",
   "execution_count": 47,
   "metadata": {},
   "outputs": [
    {
     "data": {
      "text/plain": [
       "17140"
      ]
     },
     "execution_count": 47,
     "metadata": {},
     "output_type": "execute_result"
    }
   ],
   "source": [
    "num_of_types_in_moby_dick"
   ]
  },
  {
   "cell_type": "markdown",
   "metadata": {},
   "source": [
    "### 3. Moby Dick type-token ratio ="
   ]
  },
  {
   "cell_type": "code",
   "execution_count": 48,
   "metadata": {},
   "outputs": [],
   "source": [
    "moby_dick_token_ratio = num_of_types_in_moby_dick/num_of_tokens_in_moby_dick"
   ]
  },
  {
   "cell_type": "code",
   "execution_count": 49,
   "metadata": {},
   "outputs": [
    {
     "data": {
      "text/plain": [
       "0.07840051962071347"
      ]
     },
     "execution_count": 49,
     "metadata": {},
     "output_type": "execute_result"
    }
   ],
   "source": [
    "moby_dick_token_ratio"
   ]
  },
  {
   "cell_type": "markdown",
   "metadata": {},
   "source": [
    "### 4. WSJ type-token ratio is ="
   ]
  },
  {
   "cell_type": "code",
   "execution_count": 50,
   "metadata": {},
   "outputs": [],
   "source": [
    "wsj = text7\n",
    "\n",
    "wsj_tokens = wsj.tokens\n",
    "wsj_tokens_nopunct = [word.lower() for word in wsj_tokens if re.search('\\w',word)]\n",
    "num_of_tokens_in_wsj = len(wsj_tokens_nopunct)\n",
    "\n",
    "wsj_types = set(wsj_tokens_nopunct)\n",
    "num_of_types_in_wsj = len(wsj_types)\n",
    "\n",
    "wsj_token_ratio = num_of_types_in_wsj/num_of_tokens_in_wsj"
   ]
  },
  {
   "cell_type": "code",
   "execution_count": 51,
   "metadata": {},
   "outputs": [
    {
     "data": {
      "text/plain": [
       "0.129748424801388"
      ]
     },
     "execution_count": 51,
     "metadata": {},
     "output_type": "execute_result"
    }
   ],
   "source": [
    "wsj_token_ratio"
   ]
  },
  {
   "cell_type": "markdown",
   "metadata": {},
   "source": [
    "### 5. Cual de los dos tiene mas diversidad lexica?"
   ]
  },
  {
   "cell_type": "code",
   "execution_count": 52,
   "metadata": {},
   "outputs": [
    {
     "data": {
      "text/plain": [
       "True"
      ]
     },
     "execution_count": 52,
     "metadata": {},
     "output_type": "execute_result"
    }
   ],
   "source": [
    "wsj_token_ratio > moby_dick_token_ratio"
   ]
  },
  {
   "cell_type": "markdown",
   "metadata": {},
   "source": [
    "El WSJ tiene mas diversidad lexica"
   ]
  },
  {
   "cell_type": "markdown",
   "metadata": {},
   "source": [
    "### 6. Puede pensar una razon por la cual ese corpus es mas diverso que el otro?"
   ]
  },
  {
   "cell_type": "markdown",
   "metadata": {},
   "source": [
    "El WSJ es un periodico. Moby Dick es una novela.\n",
    "Hay mas probabilidad de que al leer una novela nos encontremos con los mismos tokens ya que, al pasar de un capitulo al siguiente, los protagonistas y los lugares no cambian frecuentemente.\n",
    "En cambio en un periodico aparecen nuevos temas, nuevas notas y nuevos nombres debido a que no existe relacion entre articulos periodisticos como lo hay con los capitulos en una novela."
   ]
  },
  {
   "cell_type": "markdown",
   "metadata": {},
   "source": [
    "### 7. Cual es el \"Maximum Likelihood Estimate (MLE)\" de la palabra \"whale\" (ballena) en Moby Dick?"
   ]
  },
  {
   "cell_type": "code",
   "execution_count": 53,
   "metadata": {},
   "outputs": [],
   "source": [
    "whale_ocurrency_in_moby_dick = moby_dick_tokens_nopunct.count(\"whale\")\n",
    "mle_whale_in_moby_dick = whale_ocurrency_in_moby_dick/num_of_tokens_in_moby_dick"
   ]
  },
  {
   "cell_type": "code",
   "execution_count": 54,
   "metadata": {},
   "outputs": [
    {
     "data": {
      "text/plain": [
       "0.005607878474620462"
      ]
     },
     "execution_count": 54,
     "metadata": {},
     "output_type": "execute_result"
    }
   ],
   "source": [
    "mle_whale_in_moby_dick"
   ]
  },
  {
   "cell_type": "markdown",
   "metadata": {},
   "source": [
    "### 8. Cuál es el MLE de “whale” en el corpus de WSJ?"
   ]
  },
  {
   "cell_type": "code",
   "execution_count": 55,
   "metadata": {},
   "outputs": [],
   "source": [
    "whale_ocurrency_wsj = wsj_tokens_nopunct.count(\"whale\")\n",
    "mle_whale_in_wsj = whale_ocurrency_wsj/num_of_tokens_in_wsj"
   ]
  },
  {
   "cell_type": "code",
   "execution_count": 56,
   "metadata": {},
   "outputs": [
    {
     "data": {
      "text/plain": [
       "0.0"
      ]
     },
     "execution_count": 56,
     "metadata": {},
     "output_type": "execute_result"
    }
   ],
   "source": [
    "mle_whale_in_wsj"
   ]
  },
  {
   "cell_type": "code",
   "execution_count": null,
   "metadata": {},
   "outputs": [],
   "source": []
  }
 ],
 "metadata": {
  "kernelspec": {
   "display_name": "Python 3",
   "language": "python",
   "name": "python3"
  },
  "language_info": {
   "codemirror_mode": {
    "name": "ipython",
    "version": 3
   },
   "file_extension": ".py",
   "mimetype": "text/x-python",
   "name": "python",
   "nbconvert_exporter": "python",
   "pygments_lexer": "ipython3",
   "version": "3.7.4"
  }
 },
 "nbformat": 4,
 "nbformat_minor": 4
}
