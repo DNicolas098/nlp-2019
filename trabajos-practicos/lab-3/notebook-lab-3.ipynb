{
 "cells": [
  {
   "cell_type": "markdown",
   "metadata": {},
   "source": [
    "### Subir a tu github una implementación personalizada de NLTK para CountVectorizer que haga steam y stopwords del idioma español y dos ejemplos de oraciones usando tu clase. También importá un corpus como 20_Newsdataset pero que esté en español. Qué corpus poner, queda a tu criterio!"
   ]
  },
  {
   "cell_type": "markdown",
   "metadata": {},
   "source": [
    "Creo mi clase personalizada que combina tecnicas de NLTK + SciKit-learn para español"
   ]
  },
  {
   "cell_type": "code",
   "execution_count": 9,
   "metadata": {},
   "outputs": [],
   "source": [
    "from nltk.stem import SnowballStemmer\n",
    "from sklearn.feature_extraction.text import CountVectorizer\n",
    "from nltk.corpus import stopwords\n",
    "\n",
    "spanish_stemmer = SnowballStemmer(\"spanish\")\n",
    "\n",
    "class StemmedCountVectorizer(CountVectorizer):\n",
    "    def build_analyzer(self):\n",
    "        analyzer = super(StemmedCountVectorizer, self).build_analyzer()\n",
    "        return lambda doc: (spanish_stemmer.stem(w) for w in analyzer(doc))\n",
    "    \n",
    "stem_vectorizer = StemmedCountVectorizer(min_df=1, stop_words=stopwords.words(\"spanish\"))\n",
    "stem_analyze = stem_vectorizer.build_analyzer()"
   ]
  },
  {
   "cell_type": "markdown",
   "metadata": {},
   "source": [
    "Hacemos pruebas con 2 oraciones en español"
   ]
  },
  {
   "cell_type": "code",
   "execution_count": 15,
   "metadata": {},
   "outputs": [
    {
     "name": "stdout",
     "output_type": "stream",
     "text": [
      "si\n",
      "hag\n",
      "laboratori\n",
      "mas\n",
      "chanc\n",
      "aprob\n",
      "materi\n"
     ]
    }
   ],
   "source": [
    "test1 = stem_analyze(\"Si hago todos los laboratorios tengo mas chance de aprobar la materia.\")\n",
    "for tok in test1:\n",
    "    print(tok)"
   ]
  },
  {
   "cell_type": "code",
   "execution_count": 16,
   "metadata": {},
   "outputs": [
    {
     "name": "stdout",
     "output_type": "stream",
     "text": [
      "dos\n",
      "cos\n",
      "infinit\n",
      "univers\n",
      "estupidez\n",
      "human\n",
      "segur\n",
      "primer\n"
     ]
    }
   ],
   "source": [
    "test1 = stem_analyze(\"Dos cosas son infinitas: el universo y la estupidez humana. Y no estoy seguro sobre la primera\")\n",
    "for tok in test1:\n",
    "    print(tok)"
   ]
  },
  {
   "cell_type": "markdown",
   "metadata": {},
   "source": [
    "Para la segunda parte me bajo un corpora en formato xml acerca de distintios discursos politicos de un ex presidente colombiano. Lo convierto a una lista de strings."
   ]
  },
  {
   "cell_type": "code",
   "execution_count": 18,
   "metadata": {},
   "outputs": [],
   "source": [
    "import xml.etree.ElementTree as ET\n",
    "\n",
    "f = open(\"alvaroCorpora.xml\")\n",
    "xml = f.read()\n",
    "f.close()\n",
    "tree = ET.fromstring(xml)\n",
    "discursos = [discurso.text for discurso in tree.findall(\"*/discurso\")]"
   ]
  },
  {
   "cell_type": "markdown",
   "metadata": {},
   "source": [
    "Luego creo una instancia de CountVectorizer para poder preprocesar el corpora"
   ]
  },
  {
   "cell_type": "code",
   "execution_count": 57,
   "metadata": {},
   "outputs": [],
   "source": [
    "vectorizer = CountVectorizer()\n",
    "fit = vectorizer.fit_transform(discursos)"
   ]
  },
  {
   "cell_type": "markdown",
   "metadata": {},
   "source": [
    "Puedo averiguar la cantidad de features..."
   ]
  },
  {
   "cell_type": "code",
   "execution_count": 58,
   "metadata": {},
   "outputs": [
    {
     "data": {
      "text/plain": [
       "26345"
      ]
     },
     "execution_count": 58,
     "metadata": {},
     "output_type": "execute_result"
    }
   ],
   "source": [
    "len(vectorizer.get_feature_names())"
   ]
  },
  {
   "cell_type": "markdown",
   "metadata": {},
   "source": [
    "...o la frecuencia de la palabra colombia"
   ]
  },
  {
   "cell_type": "code",
   "execution_count": 59,
   "metadata": {},
   "outputs": [
    {
     "data": {
      "text/plain": [
       "5291"
      ]
     },
     "execution_count": 59,
     "metadata": {},
     "output_type": "execute_result"
    }
   ],
   "source": [
    "vectorizer.vocabulary_.get(\"colombia\")"
   ]
  },
  {
   "cell_type": "markdown",
   "metadata": {},
   "source": [
    "Tambien podemos crear un grafico que indique la ocurrencia de cada palabra"
   ]
  },
  {
   "cell_type": "code",
   "execution_count": 74,
   "metadata": {},
   "outputs": [
    {
     "data": {
      "image/png": "[encoded data removed]",
      "text/plain": [
       "<Figure size 432x288 with 1 Axes>"
      ]
     },
     "metadata": {
      "needs_background": "light"
     },
     "output_type": "display_data"
    }
   ],
   "source": [
    "import sklearn\n",
    "import numpy as np\n",
    "import matplotlib.pyplot as plt\n",
    "\n",
    "x = vectorizer.get_feature_names()[1000:1005] # mostramos solo una pequeña muestra por simplicidad\n",
    "y = fit.toarray().sum(axis=0)[1000:1005]\n",
    "\n",
    "plt.scatter(x, y)\n",
    "plt.plot(x, y)\n",
    "plt.grid(True)\n",
    "plt.show()"
   ]
  }
 ],
 "metadata": {
  "kernelspec": {
   "display_name": "Python 3",
   "language": "python",
   "name": "python3"
  },
  "language_info": {
   "codemirror_mode": {
    "name": "ipython",
    "version": 3
   },
   "file_extension": ".py",
   "mimetype": "text/x-python",
   "name": "python",
   "nbconvert_exporter": "python",
   "pygments_lexer": "ipython3",
   "version": "3.7.4"
  }
 },
 "nbformat": 4,
 "nbformat_minor": 4
}
