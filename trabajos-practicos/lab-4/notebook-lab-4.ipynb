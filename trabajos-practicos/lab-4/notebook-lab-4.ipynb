{
 "cells": [
  {
   "cell_type": "markdown",
   "metadata": {},
   "source": [
    "# 3. Accediendo a WordNet"
   ]
  },
  {
   "cell_type": "code",
   "execution_count": 2,
   "metadata": {},
   "outputs": [],
   "source": [
    "from nltk.corpus import wordnet as wn"
   ]
  },
  {
   "cell_type": "markdown",
   "metadata": {},
   "source": [
    "### Intenta obtener los lemas para el segundo sentido del “dog”"
   ]
  },
  {
   "cell_type": "code",
   "execution_count": 3,
   "metadata": {},
   "outputs": [
    {
     "data": {
      "text/plain": [
       "[Synset('dog.n.01'),\n",
       " Synset('frump.n.01'),\n",
       " Synset('dog.n.03'),\n",
       " Synset('cad.n.01'),\n",
       " Synset('frank.n.02'),\n",
       " Synset('pawl.n.01'),\n",
       " Synset('andiron.n.01'),\n",
       " Synset('chase.v.01')]"
      ]
     },
     "execution_count": 3,
     "metadata": {},
     "output_type": "execute_result"
    }
   ],
   "source": [
    "wn.synsets(\"dog\")"
   ]
  },
  {
   "cell_type": "markdown",
   "metadata": {},
   "source": [
    "Podemos ver que el primer sentido del word \"dog\" es \"dog.n.01\". Por lo tanto el segundo sentido de \"dog\" es \"dog.n.02\""
   ]
  },
  {
   "cell_type": "code",
   "execution_count": 4,
   "metadata": {},
   "outputs": [
    {
     "name": "stdout",
     "output_type": "stream",
     "text": [
      "Definicion del primer sentido de dog: a member of the genus Canis (probably descended from the common wolf) that has been domesticated by man since prehistoric times; occurs in many breeds\n",
      "Definicion del segundo sentido de dog: a dull unattractive unpleasant girl or woman\n"
     ]
    }
   ],
   "source": [
    "dog_def_primer_sentido = wn.synset(\"dog.n.01\").definition()\n",
    "dog_def_segundo_sentido = wn.synset(\"dog.n.02\").definition()\n",
    "\n",
    "print(\"Definicion del primer sentido de dog:\", dog_def_primer_sentido)\n",
    "print(\"Definicion del segundo sentido de dog:\", dog_def_segundo_sentido)"
   ]
  },
  {
   "cell_type": "markdown",
   "metadata": {},
   "source": [
    "Los lemas del segundo sentido de dog (\"dog.n.02\") son aquellos synset que poseen la misma definicion. Estos son..."
   ]
  },
  {
   "cell_type": "code",
   "execution_count": 5,
   "metadata": {},
   "outputs": [
    {
     "data": {
      "text/plain": [
       "[Lemma('frump.n.01.frump'), Lemma('frump.n.01.dog')]"
      ]
     },
     "execution_count": 5,
     "metadata": {},
     "output_type": "execute_result"
    }
   ],
   "source": [
    "wn.synset(\"dog.n.02\").lemmas()"
   ]
  },
  {
   "cell_type": "markdown",
   "metadata": {},
   "source": [
    "Comprobamos la igualdad de las definiciones"
   ]
  },
  {
   "cell_type": "code",
   "execution_count": 6,
   "metadata": {},
   "outputs": [
    {
     "data": {
      "text/plain": [
       "True"
      ]
     },
     "execution_count": 6,
     "metadata": {},
     "output_type": "execute_result"
    }
   ],
   "source": [
    "wn.synset(\"dog.n.02\").definition() == wn.synset(\"frump.n.01\").definition()"
   ]
  },
  {
   "cell_type": "markdown",
   "metadata": {},
   "source": [
    "# 4. Relaciones entre palabras en WordNet"
   ]
  },
  {
   "cell_type": "markdown",
   "metadata": {},
   "source": [
    "### Utilizando lo que ha estudiado hasta ahora, imprima las definiciones de flag.n.07, canis.n.01 y pack.n.06 y vea si ve por qué estos synsets están relacionados de esta manera"
   ]
  },
  {
   "cell_type": "code",
   "execution_count": 7,
   "metadata": {},
   "outputs": [
    {
     "name": "stdout",
     "output_type": "stream",
     "text": [
      "definicion de flag: a conspicuously marked or shaped tail\n",
      "definicion de canis: type genus of the Canidae: domestic and wild dogs; wolves; jackals\n",
      "definicion de pack: a group of hunting animals\n"
     ]
    }
   ],
   "source": [
    "flag = wn.synset(\"flag.n.07\")\n",
    "canis = wn.synset(\"canis.n.01\")\n",
    "pack = wn.synset(\"pack.n.06\")\n",
    "\n",
    "print(\"definicion de flag:\", flag.definition())\n",
    "print(\"definicion de canis:\", canis.definition())\n",
    "print(\"definicion de pack:\", pack.definition())"
   ]
  },
  {
   "cell_type": "markdown",
   "metadata": {},
   "source": [
    "Canis y pack se relacionan con dog por ser sus holonimos, es decir, un perro (dog) es un miembro de un grupo de animales cazadores (pack) y tambien es miembro de un tipo de genero de los caninos (canis)"
   ]
  },
  {
   "cell_type": "code",
   "execution_count": 8,
   "metadata": {},
   "outputs": [
    {
     "data": {
      "text/plain": [
       "[Synset('canis.n.01'), Synset('pack.n.06')]"
      ]
     },
     "execution_count": 8,
     "metadata": {},
     "output_type": "execute_result"
    }
   ],
   "source": [
    "dog = wn.synset(\"dog.n.01\")\n",
    "dog.member_holonyms()"
   ]
  },
  {
   "cell_type": "markdown",
   "metadata": {},
   "source": [
    "Flag se relaciona con dog por ser su meronimo, es decir, una cola (flag) es una parte de un perro (dog)"
   ]
  },
  {
   "cell_type": "code",
   "execution_count": 9,
   "metadata": {},
   "outputs": [
    {
     "data": {
      "text/plain": [
       "[Synset('flag.n.07')]"
      ]
     },
     "execution_count": 9,
     "metadata": {},
     "output_type": "execute_result"
    }
   ],
   "source": [
    "dog.part_meronyms()"
   ]
  },
  {
   "cell_type": "markdown",
   "metadata": {},
   "source": [
    "De esta forma, todos los synsets estan relacionados"
   ]
  },
  {
   "cell_type": "markdown",
   "metadata": {},
   "source": [
    "# 5. Desambiguación de palabras por sentido (Word Sense Desambiguation) "
   ]
  },
  {
   "cell_type": "markdown",
   "metadata": {},
   "source": [
    "### Recuerde el algoritmo de Lesk. ¿Cuáles fueron los pasos?"
   ]
  },
  {
   "cell_type": "markdown",
   "metadata": {},
   "source": [
    "1. Identificar la palabra a desambiguar dentro del contexto\n",
    "2. Comparar las definiciones y los ejemplos de los diferentes sentidos para la palabra identificada\n",
    "3. Elegir el sentido que matchee mejor con el contexto dado"
   ]
  },
  {
   "cell_type": "markdown",
   "metadata": {},
   "source": [
    "### Oracion: “The bank can guarantee deposits will eventually cover future tuition costs because it invests in adjustable-rate mortgage securities.”"
   ]
  },
  {
   "cell_type": "markdown",
   "metadata": {},
   "source": [
    "### ¿Cuántos sentidos sustantivos de \"banco\" hay en WordNet?"
   ]
  },
  {
   "cell_type": "code",
   "execution_count": 10,
   "metadata": {},
   "outputs": [
    {
     "data": {
      "text/plain": [
       "[Synset('bank.n.01'),\n",
       " Synset('depository_financial_institution.n.01'),\n",
       " Synset('bank.n.03'),\n",
       " Synset('bank.n.04'),\n",
       " Synset('bank.n.05'),\n",
       " Synset('bank.n.06'),\n",
       " Synset('bank.n.07'),\n",
       " Synset('savings_bank.n.02'),\n",
       " Synset('bank.n.09'),\n",
       " Synset('bank.n.10'),\n",
       " Synset('bank.v.01'),\n",
       " Synset('bank.v.02'),\n",
       " Synset('bank.v.03'),\n",
       " Synset('bank.v.04'),\n",
       " Synset('bank.v.05'),\n",
       " Synset('deposit.v.02'),\n",
       " Synset('bank.v.07'),\n",
       " Synset('trust.v.01')]"
      ]
     },
     "execution_count": 10,
     "metadata": {},
     "output_type": "execute_result"
    }
   ],
   "source": [
    "bank = wn.synsets(\"bank\")\n",
    "bank"
   ]
  },
  {
   "cell_type": "markdown",
   "metadata": {},
   "source": [
    "### ¿Qué synset es el sentido correcto para la palabra en el contexto de la oración anterior?"
   ]
  },
  {
   "cell_type": "code",
   "execution_count": 11,
   "metadata": {},
   "outputs": [
    {
     "name": "stdout",
     "output_type": "stream",
     "text": [
      "0 : sloping land (especially the slope beside a body of water)\n",
      "1 : a financial institution that accepts deposits and channels the money into lending activities\n",
      "2 : a long ridge or pile\n",
      "3 : an arrangement of similar objects in a row or in tiers\n",
      "4 : a supply or stock held in reserve for future use (especially in emergencies)\n",
      "5 : the funds held by a gambling house or the dealer in some gambling games\n",
      "6 : a slope in the turn of a road or track; the outside is higher than the inside in order to reduce the effects of centrifugal force\n",
      "7 : a container (usually with a slot in the top) for keeping money at home\n",
      "8 : a building in which the business of banking transacted\n",
      "9 : a flight maneuver; aircraft tips laterally about its longitudinal axis (especially in turning)\n",
      "10 : tip laterally\n",
      "11 : enclose with a bank\n",
      "12 : do business with a bank or keep an account at a bank\n",
      "13 : act as the banker in a game or in gambling\n",
      "14 : be in the banking business\n",
      "15 : put into a bank account\n",
      "16 : cover with ashes so to control the rate of burning\n",
      "17 : have confidence or faith in\n"
     ]
    }
   ],
   "source": [
    "i = 0\n",
    "for synset in bank:\n",
    "    print(i, \":\", synset.definition())\n",
    "    i += 1"
   ]
  },
  {
   "cell_type": "markdown",
   "metadata": {},
   "source": [
    "El sentido correcto es el segundo:"
   ]
  },
  {
   "cell_type": "code",
   "execution_count": 12,
   "metadata": {},
   "outputs": [
    {
     "data": {
      "text/plain": [
       "'a financial institution that accepts deposits and channels the money into lending activities'"
      ]
     },
     "execution_count": 12,
     "metadata": {},
     "output_type": "execute_result"
    }
   ],
   "source": [
    "bank[1].definition()"
   ]
  },
  {
   "cell_type": "markdown",
   "metadata": {},
   "source": [
    "### ¿Qué synset fue producido por Lesk?"
   ]
  },
  {
   "cell_type": "code",
   "execution_count": 13,
   "metadata": {},
   "outputs": [
    {
     "data": {
      "text/plain": [
       "Synset('bank.n.05')"
      ]
     },
     "execution_count": 13,
     "metadata": {},
     "output_type": "execute_result"
    }
   ],
   "source": [
    "from nltk.wsd import lesk\n",
    "from nltk import word_tokenize\n",
    "s = \"The bank can guarantee deposits will eventually cover future tuition costs because it invests in adjustable-rate mortgage securities.\"\n",
    "tok_s = word_tokenize(s)\n",
    "synset = lesk(tok_s, \"bank\", \"n\")\n",
    "synset"
   ]
  },
  {
   "cell_type": "code",
   "execution_count": 14,
   "metadata": {},
   "outputs": [
    {
     "data": {
      "text/plain": [
       "'a supply or stock held in reserve for future use (especially in emergencies)'"
      ]
     },
     "execution_count": 14,
     "metadata": {},
     "output_type": "execute_result"
    }
   ],
   "source": [
    "synset.definition()"
   ]
  },
  {
   "cell_type": "markdown",
   "metadata": {},
   "source": [
    "### Para cada ejemplo, a continuación descubra el sentido correcto de WordNet según su criterio"
   ]
  },
  {
   "cell_type": "markdown",
   "metadata": {},
   "source": [
    "- I went to the **bank** to deposit some money.\n",
    "- She created a big **mess** of the birthday cake.\n",
    "- In the interest of your safety, please wear your **seatbelt**.\n",
    "- I drank some **ice** cold water"
   ]
  },
  {
   "cell_type": "code",
   "execution_count": 17,
   "metadata": {},
   "outputs": [
    {
     "name": "stdout",
     "output_type": "stream",
     "text": [
      "bank: a financial institution that accepts deposits and channels the money into lending activities\n",
      "mess: a state of confusion and disorderliness\n",
      "seatbelt: a safety belt used in a car or plane to hold you in your seat in case of an accident\n",
      "ice: water frozen in the solid state\n"
     ]
    }
   ],
   "source": [
    "print(\"bank:\", wn.synsets(\"bank\")[1].definition())\n",
    "print(\"mess:\", wn.synsets(\"mess\")[0].definition())\n",
    "print(\"seatbelt:\", wn.synsets(\"seatbelt\")[0].definition())\n",
    "print(\"ice:\", wn.synsets(\"ice\")[0].definition())"
   ]
  },
  {
   "cell_type": "markdown",
   "metadata": {},
   "source": [
    "### ¿Cuál es la precisión de la implementación de Lesk de NLTK en estas oraciones?"
   ]
  },
  {
   "cell_type": "code",
   "execution_count": 18,
   "metadata": {},
   "outputs": [
    {
     "name": "stdout",
     "output_type": "stream",
     "text": [
      "bank: a container (usually with a slot in the top) for keeping money at home\n",
      "mess: a (large) military dining room where service personnel eat or relax\n",
      "seatbelt: a safety belt used in a car or plane to hold you in your seat in case of an accident\n",
      "ice: an amphetamine derivative (trade name Methedrine) used in the form of a crystalline hydrochloride; used as a stimulant to the nervous system and as an appetite suppressant\n"
     ]
    }
   ],
   "source": [
    "s1 = \"I went to the bank to deposit some money.\"\n",
    "s2 = \"She created a big mess of the birthday cake.\"\n",
    "s3 = \"In the interest of your safety, please wear your seatbelt.\"\n",
    "s4 = \"I drank some ice cold water\"\n",
    "\n",
    "tok_s1 = word_tokenize(s1)\n",
    "tok_s2 = word_tokenize(s2)\n",
    "tok_s3 = word_tokenize(s3)\n",
    "tok_s4 = word_tokenize(s4)\n",
    "\n",
    "print(\"bank:\", lesk(tok_s1, \"bank\", \"n\").definition())\n",
    "print(\"mess:\", lesk(tok_s1, \"mess\", \"n\").definition())\n",
    "print(\"seatbelt:\", lesk(tok_s1, \"seatbelt\", \"n\").definition())\n",
    "print(\"ice:\", lesk(tok_s1, \"ice\", \"n\").definition())"
   ]
  },
  {
   "cell_type": "markdown",
   "metadata": {},
   "source": [
    "La precision es de un 25% (solo acertó en el caso de la 3er oracion). De hecho, no podia fallar en la tercera porque solo hay un synset para \"seatbelt\", por lo que la precision esta entre un 0% y un 25%"
   ]
  }
 ],
 "metadata": {
  "kernelspec": {
   "display_name": "Python 3",
   "language": "python",
   "name": "python3"
  },
  "language_info": {
   "codemirror_mode": {
    "name": "ipython",
    "version": 3
   },
   "file_extension": ".py",
   "mimetype": "text/x-python",
   "name": "python",
   "nbconvert_exporter": "python",
   "pygments_lexer": "ipython3",
   "version": "3.7.4"
  }
 },
 "nbformat": 4,
 "nbformat_minor": 4
}
